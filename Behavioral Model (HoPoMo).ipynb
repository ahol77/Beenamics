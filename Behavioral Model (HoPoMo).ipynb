{
 "cells": [
  {
   "cell_type": "code",
   "execution_count": 6,
   "metadata": {},
   "outputs": [],
   "source": [
    "import numpy as np\n",
    "import matplotlib.pyplot as plt\n",
    "from numpy import random as rng\n",
    "%matplotlib inline"
   ]
  },
  {
   "cell_type": "code",
   "execution_count": 7,
   "metadata": {},
   "outputs": [],
   "source": [
    "# Modeling queen egg laying behavior\n",
    "\n",
    "# Egg laying of a queen is dependent on adult working population, day-length, resource influx, and ambient temperature\n",
    "\n",
    "## This seasonal profile season(t) is perhaps an oversimplification of the weather and we can try to complicate it \n",
    "\n",
    "def season(t, x1, x2, x3, x4, x5):\n",
    "    '''\n",
    "    Function to define a seasonal factor as a function of t, in days. It influences daily egg laying rate of queen,\n",
    "    and nectar and pollen availability in the environment\n",
    "    \n",
    "    Args:\n",
    "        t: (int) day number. Measured since as # since Jan 1st\n",
    "        xi:    (floats)    Parameters that influence the shape of the season factor and can be adjusted to adjust for different climates\n",
    "\n",
    "    Out:\n",
    "        seasonValue:    (float) the season factor function at time t\n",
    "    \n",
    "    '''\n",
    "    poss1 = 1 - (1/(1+x1*np.exp(-2*t/x2)))\n",
    "    poss2 = (1/(1+x3*np.exp(-2*(t-x4)/x5)))\n",
    "    seasonValue = np.maximum(poss1,poss2)\n",
    "    return seasonValue\n",
    "\n",
    "# HoPoMo includes a suppression factor SUPcomb(t) to describe suppression in egg laying when available empty space in the \n",
    "#  hive is below the threshold parameter SUPthreshold \n",
    "# The gradual lowering off egg laying rate is interpreted as the increased searching time for an empty cell \n",
    "# To calculate ratio of available empty cells to total cells, they defined a constant CELLSHive as the total number of cells in a hive\n",
    "\n",
    "# Since we will likely only be interested in modeling 10 frame brood boxes, we will likely avoid implementing SUPcomb(t)\n",
    "\n",
    "\n",
    "SUPthreshold = 50\n",
    "\n",
    "# Cal\n",
    "CELLSperframe = 9000\n",
    "FRAMESperhive = 10\n",
    "CELLShive = CELLSperframe*FRAMESperhive\n",
    "\n",
    "def CELLSempty(t):\n",
    "    value = CELLSHive - CELLSbrood(t)-STORESpollen(t)-STORESnectar(t)-STOREShoney(t)\n",
    "    return value\n",
    "\n",
    "def SUPcomb(t):\n",
    "    if (CELLSempty(t)/(CELLShive+1))<SUPthreshold:\n",
    "        value = CELLSempty(t)/((CELLShive+1)*SUPthreshold)\n",
    "    else:\n",
    "        value = 1\n",
    "    return value\n",
    "\n",
    "# To account for variability in Queen laying rates even with available cells, implemented a stochastic factor ELRstoch(t)\n",
    "# ELRstoch is assumed to be uniformaly distributed around 0 from -ERLstochrange to +ERLstochrange\n",
    "\n",
    "ELRstochrange = 10.\n",
    "\n",
    "# ELRbase is the mean daily egg laying rate of the queen at the maximum egg laying peak in Spring\n",
    "# Queen also differ individually in max egg laying capacity, so this is also a genetic factor\n",
    "# Additionally, this base number can be used to model queen age\n",
    "ELRbase = 10.\n",
    "\n",
    "def ELRstoch(t):\n",
    "    return rng.uniform(-ERLstochrange, ERLstochrange)\n",
    "    \n",
    "def ELR(t):\n",
    "    '''\n",
    "    Function to model the daily laying rate of a queen\n",
    "    \n",
    "    Args:\n",
    "        t: (int) day number. Measured since as # since Jan 1st\n",
    "\n",
    "    Out:\n",
    "        layRate:    (float) the laying rate for a queen on a given day\n",
    "    '''\n",
    "    layRate = ELRbase * (1 + ELRstoch(t))*(1-season(t))*SUPcomb(t)"
   ]
  },
  {
   "cell_type": "code",
   "execution_count": 11,
   "metadata": {},
   "outputs": [
    {
     "data": {
      "text/plain": [
       "[<matplotlib.lines.Line2D at 0x20c69180ba8>]"
      ]
     },
     "execution_count": 11,
     "metadata": {},
     "output_type": "execute_result"
    },
    {
     "data": {
      "image/png": "[encoded data removed]",
      "text/plain": [
       "<Figure size 432x288 with 1 Axes>"
      ]
     },
     "metadata": {
      "needs_background": "light"
     },
     "output_type": "display_data"
    }
   ],
   "source": [
    "# Testing season(t)\n",
    "x1 = 100\n",
    "x2 = 40\n",
    "x3 = 800\n",
    "x4 = 100\n",
    "x5 = 50\n",
    "year = np.arange(365)\n",
    "plt.plot(year, season(year, x1, x2, x3, x4, x5))"
   ]
  },
  {
   "cell_type": "code",
   "execution_count": 9,
   "metadata": {},
   "outputs": [
    {
     "ename": "SyntaxError",
     "evalue": "invalid syntax (<ipython-input-9-c814a8a84f50>, line 8)",
     "output_type": "error",
     "traceback": [
      "\u001b[1;36m  File \u001b[1;32m\"<ipython-input-9-c814a8a84f50>\"\u001b[1;36m, line \u001b[1;32m8\u001b[0m\n\u001b[1;33m    EGGS(i, t):\u001b[0m\n\u001b[1;37m               ^\u001b[0m\n\u001b[1;31mSyntaxError\u001b[0m\u001b[1;31m:\u001b[0m invalid syntax\n"
     ]
    }
   ],
   "source": [
    "# Modeling brood development\n",
    "\n",
    "# Constants that stand for the development period for \n",
    "LIFESPANegg = 3\n",
    "LIFESPANlarvae = 5\n",
    "LIFESPANpupa = 12\n",
    "\n",
    "# Constants that represent the initial population state of the colony\n",
    "INITeggs = 10\n",
    "INITlarvae = 10\n",
    "INItpupae = 10\n",
    "\n",
    "# Daily egg mortality, treated as a constant in this model\n",
    "MORTALITYeggs = 10\n",
    "\n",
    "# Model for the amount of brood at each day t, where i indicates the age of the immature individual, in days\n",
    "def EGGS(i, t):\n",
    "    if i ==1:\n",
    "        value = ELR(t-1)(1-MORTALITYeggs)\n",
    "    elif (i==2 or i==3):\n",
    "        value = EGGS(i-1, t-1)(1-MORTALITYeggs)\n",
    "    elif i>3:\n",
    "        print('These are no longer eggs. It should have called the Larvae function')\n",
    "        return None\n",
    "    return value\n",
    "        \n",
    "def LARVAE(i,t):\n",
    "    if i =1:\n",
    "        value = EGGS(LIFESPANegg, t-1)*SURVIVALlarvae(1,t)    \n",
    "    elif i<=LIFESPANlarva:\n",
    "        value = LARVAE(i-1,t-1)*SURVIVALlarvae(i,t)\n",
    "    elif i>LIFESPANlarva:\n",
    "        print('These are no longer larva. It should have called the Pupae function')\n",
    "        return None\n",
    "    return value\n",
    "        \n",
    "def PUPAE(i,t):\n",
    "    \n",
    "# Function that returns the number of cells that have eggs\n",
    "def CELLSeggs(t):\n",
    "    value = 0\n",
    "    for i in range(LIFESPANegg):\n",
    "        # The +1 is to make i represent the age of the growing bees \n",
    "        value += EGGS(i+1,t)\n",
    "    return value\n",
    "\n",
    "def SURVIVALlarvae(i,t):\n",
    "    \n",
    "    "
   ]
  },
  {
   "cell_type": "code",
   "execution_count": 4,
   "metadata": {},
   "outputs": [],
   "source": [
    "# Modeling adult bee population"
   ]
  },
  {
   "cell_type": "code",
   "execution_count": 5,
   "metadata": {},
   "outputs": [],
   "source": [
    "# Modeling environmental influence"
   ]
  },
  {
   "cell_type": "code",
   "execution_count": 6,
   "metadata": {},
   "outputs": [],
   "source": [
    "# Modeling task decision-making"
   ]
  },
  {
   "cell_type": "code",
   "execution_count": 7,
   "metadata": {},
   "outputs": [],
   "source": [
    "# Modeling the regulation of foraging"
   ]
  },
  {
   "cell_type": "code",
   "execution_count": 8,
   "metadata": {},
   "outputs": [],
   "source": [
    "# Modeling resource influx into a hive"
   ]
  },
  {
   "cell_type": "code",
   "execution_count": 9,
   "metadata": {},
   "outputs": [],
   "source": [
    "# Modeling the food regulation "
   ]
  },
  {
   "cell_type": "code",
   "execution_count": null,
   "metadata": {},
   "outputs": [],
   "source": [
    "# Modeling nutrient management"
   ]
  }
 ],
 "metadata": {
  "kernelspec": {
   "display_name": "Python 3",
   "language": "python",
   "name": "python3"
  },
  "language_info": {
   "codemirror_mode": {
    "name": "ipython",
    "version": 3
   },
   "file_extension": ".py",
   "mimetype": "text/x-python",
   "name": "python",
   "nbconvert_exporter": "python",
   "pygments_lexer": "ipython3",
   "version": "3.7.0"
  }
 },
 "nbformat": 4,
 "nbformat_minor": 2
}
